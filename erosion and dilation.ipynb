import cv2
import numpy as np
from matplotlib import pyplot as plt

# Create a black image
img = np.zeros((100, 400), dtype='uint8')

# Set font and add text to the image
font = cv2.FONT_HERSHEY_SIMPLEX
cv2.putText(img, 'TheAILEarner', (5, 70), font, 2, (255), 5, cv2.LINE_AA)

# Create kernels
kernel = np.ones((5, 5), np.uint8)
kernel1 = cv2.getStructuringElement(cv2.MORPH_CROSS, (7, 7))

# Apply erosion and dilation
image_erode = cv2.erode(img, kernel1)
image_dilate = cv2.dilate(img, kernel1)

# Display the original and processed images
plt.subplot(1, 3, 1), plt.imshow(img, 'gray'), plt.title('Original')
plt.subplot(1, 3, 2), plt.imshow(image_erode, 'gray'), plt.title('Eroded')
plt.subplot(1, 3, 3), plt.imshow(image_dilate, 'gray'), plt.title('Dilated')
plt.show()
